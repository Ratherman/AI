{
 "cells": [
  {
   "cell_type": "code",
   "execution_count": 2,
   "metadata": {},
   "outputs": [],
   "source": [
    "# Import packages needed to read and print our data\n",
    "import pandas as pd\n",
    "import numpy as np\n",
    "import os\n",
    "import matplotlib.pyplot as plt"
   ]
  },
  {
   "cell_type": "code",
   "execution_count": 3,
   "metadata": {},
   "outputs": [
    {
     "name": "stdout",
     "output_type": "stream",
     "text": [
      "In the Root Path, there are ['sample_submission.csv', 'test.csv', 'train.csv']\n"
     ]
    }
   ],
   "source": [
    "# Declare PATH_to_Dataset\n",
    "ROOT_PATH = \"C:/Users/USER/Desktop/Datasets/Kaggle_Digit_Recognizer/\"\n",
    "\n",
    "# List the files in the ROOT_PATH\n",
    "print(f\"In the Root Path, there are {os.listdir(ROOT_PATH)}\")\n",
    "\n",
    "# Store the file names in the ROOT_PATH\n",
    "CSV_TEST = ROOT_PATH + \"test.csv\"\n",
    "CSV_TRAIN= ROOT_PATH + \"train.csv\"\n",
    "\n",
    "# Read CSV File Through Pandas\n",
    "DF_TRAIN = pd.read_csv(CSV_TRAIN)\n",
    "DF_TRAIN_NO_LABLE = DF_TRAIN.drop(columns=[\"label\"], axis=0)"
   ]
  },
  {
   "cell_type": "code",
   "execution_count": 4,
   "metadata": {},
   "outputs": [
    {
     "name": "stdout",
     "output_type": "stream",
     "text": [
      "The Label of the 20282-th example is 3\n",
      "The corresponding data is at below.\n"
     ]
    },
    {
     "data": {
      "image/png": "[encoded data removed]",
      "text/plain": [
       "<Figure size 432x288 with 1 Axes>"
      ]
     },
     "metadata": {
      "needs_background": "light"
     },
     "output_type": "display_data"
    }
   ],
   "source": [
    "# Goal: Print out data use matplotlib to specific example in the training dataset\n",
    "i = np.random.randint(len(DF_TRAIN))\n",
    "\n",
    "\n",
    "LABEL = DF_TRAIN[i:i+1].values[0][0]\n",
    "DATA = DF_TRAIN[i:i+1].values[0][1:].reshape(28,28,1)\n",
    "\n",
    "print(f\"The Label of the {i}-th example is {LABEL}\\nThe corresponding data is at below.\")\n",
    "plt.imshow(DATA, cmap=plt.get_cmap('gray'))\n",
    "plt.show()"
   ]
  },
  {
   "cell_type": "code",
   "execution_count": 27,
   "metadata": {},
   "outputs": [
    {
     "name": "stdout",
     "output_type": "stream",
     "text": [
      "Before Padding, the original shape is (28, 28, 1)\n",
      "After Padding, the shape becomes (32, 32, 1)\n"
     ]
    },
    {
     "data": {
      "image/png": "[encoded data removed]",
      "text/plain": [
       "<Figure size 432x288 with 1 Axes>"
      ]
     },
     "metadata": {
      "needs_background": "light"
     },
     "output_type": "display_data"
    }
   ],
   "source": [
    "###########\n",
    "# Padding #\n",
    "###########\n",
    "\n",
    "#[Input Vars]\n",
    "# 1. <ndarry> fmap: Dimension should be (w,d,c)\n",
    "# 2. <int> n: padding number on one side.\n",
    "\n",
    "#def padding(fmap, n):\n",
    "\n",
    "(w, h, c) = DATA.shape\n",
    "n = 2\n",
    "NEW_DATA = np.zeros((w + 2*n, h + 2*n, c))\n",
    "for x in range(w):\n",
    "    for y in range(h):\n",
    "        NEW_DATA[x + n, y + n] = DATA[x,y]\n",
    "print(f\"Before Padding, the original shape is {DATA.shape}\")\n",
    "print(f\"After Padding, the shape becomes {NEW_DATA.shape}\")\n",
    "plt.imshow(NEW_DATA, cmap=plt.get_cmap('gray'))\n",
    "plt.show()"
   ]
  },
  {
   "cell_type": "code",
   "execution_count": 24,
   "metadata": {},
   "outputs": [
    {
     "data": {
      "text/plain": [
       "<matplotlib.image.AxesImage at 0x196fbd03400>"
      ]
     },
     "execution_count": 24,
     "metadata": {},
     "output_type": "execute_result"
    },
    {
     "data": {
      "image/png": "[encoded data removed]",
      "text/plain": [
       "<Figure size 432x288 with 1 Axes>"
      ]
     },
     "metadata": {
      "needs_background": "light"
     },
     "output_type": "display_data"
    }
   ],
   "source": [
    "plt.imshow(NEW_DATA, cmap=plt.get_cmap('gray'))\n"
   ]
  },
  {
   "cell_type": "code",
   "execution_count": null,
   "metadata": {},
   "outputs": [],
   "source": []
  }
 ],
 "metadata": {
  "kernelspec": {
   "display_name": "Python 3",
   "language": "python",
   "name": "python3"
  },
  "language_info": {
   "codemirror_mode": {
    "name": "ipython",
    "version": 3
   },
   "file_extension": ".py",
   "mimetype": "text/x-python",
   "name": "python",
   "nbconvert_exporter": "python",
   "pygments_lexer": "ipython3",
   "version": "3.8.5"
  }
 },
 "nbformat": 4,
 "nbformat_minor": 4
}
