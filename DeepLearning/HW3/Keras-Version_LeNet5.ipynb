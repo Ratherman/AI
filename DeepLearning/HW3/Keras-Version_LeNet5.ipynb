{
 "cells": [
  {
   "cell_type": "code",
   "execution_count": 1,
   "metadata": {},
   "outputs": [
    {
     "name": "stdout",
     "output_type": "stream",
     "text": [
      "[Check] There are 63324 pairs in train.txt.\n",
      "[Check] There are 449 pairs in test.txt.\n",
      "[Check] There are 449 pairs in val.txt.\n",
      "\n",
      "The shape of test_meta is (449, 2)\n",
      "The path of 1st example in test_meta is images/n02111277/n02111277_9422.JPEG\n",
      "The label of 1st example in test_meta is 0\n"
     ]
    }
   ],
   "source": [
    "# [Input Vars]\n",
    "#   1. <string> PATH_TO_DESIRED_LOCATION: It should be the directory containing (1) images/ (2) train.txt (3) test.txt (4) val.txt\n",
    "\n",
    "# [Output Vars]\n",
    "#   1. <ndarray> np_train_txt: It contains both the directory to a specific image and the related label.\n",
    "#   2. <ndarray> np_test_txt: It contains both the directory to a specific image and the related label.\n",
    "#   3. <ndarray> np_val_txt: It contains both the directory to a specific image and the related label.\n",
    "import pandas as pd\n",
    "import numpy as np\n",
    "def read_metadata_files(Root_Path):\n",
    "    # train.txt\n",
    "    train_txt = pd.read_csv(Root_Path+\"train.txt\", sep=\" \")\n",
    "    NP_TRAIN_TXT = np.array(train_txt)\n",
    "    \n",
    "    # test.txt\n",
    "    test_txt = pd.read_csv(Root_Path+\"test.txt\", sep=\" \")\n",
    "    NP_TEST_TXT = np.array(test_txt)\n",
    "    \n",
    "    # val.txt\n",
    "    val_txt = pd.read_csv(Root_Path+\"val.txt\", sep=\" \")\n",
    "    NP_VAL_TXT = np.array(val_txt)\n",
    "    \n",
    "    print(f\"[Check] There are {NP_TRAIN_TXT.shape[0]} pairs in train.txt.\")\n",
    "    print(f\"[Check] There are {NP_TEST_TXT.shape[0]} pairs in test.txt.\")\n",
    "    print(f\"[Check] There are {NP_VAL_TXT.shape[0]} pairs in val.txt.\\n\")\n",
    "    \n",
    "    return NP_TRAIN_TXT, NP_TEST_TXT, NP_VAL_TXT, len(NP_TRAIN_TXT), len(NP_TEST_TXT), len(NP_VAL_TXT)\n",
    "\n",
    "Root_Path = \"C:/Users/USER/Desktop/Projects/Github_Repo/AI/DeepLearning/__HW1_DATA/\"\n",
    "train_meta, test_meta, val_meta, len_train_meta, len_test_meta, len_val_meta = read_metadata_files(Root_Path)\n",
    "print(f\"The shape of test_meta is {test_meta.shape}\")\n",
    "print(f\"The path of 1st example in test_meta is {test_meta[0][0]}\")\n",
    "print(f\"The label of 1st example in test_meta is {test_meta[0][1]}\")"
   ]
  },
  {
   "cell_type": "code",
   "execution_count": 61,
   "metadata": {},
   "outputs": [
    {
     "name": "stderr",
     "output_type": "stream",
     "text": [
      "100%|███████████████████████████████████████████████████████████████████████████| 63324/63324 [03:43<00:00, 283.88it/s]\n",
      "100%|███████████████████████████████████████████████████████████████████████████████| 449/449 [00:01<00:00, 279.70it/s]\n",
      "100%|███████████████████████████████████████████████████████████████████████████████| 449/449 [00:01<00:00, 301.85it/s]\n"
     ]
    }
   ],
   "source": [
    "from tqdm import tqdm\n",
    "import cv2 as cv\n",
    "import numpy as np\n",
    "\n",
    "#len_dataset = len_test_meta\n",
    "#dataset = test_meta\n",
    "#(height, width) = (28, 28)\n",
    "\n",
    "def load_dataset(len_dataset, dataset, height, width):\n",
    "    img_dataset = np.zeros((len_dataset, height, width, 3))\n",
    "    img_label = np.zeros(len_dataset)\n",
    "\n",
    "    for i in tqdm(range(len_dataset)):\n",
    "        # 取 label\n",
    "        img_label[i] = int(dataset[i][1])\n",
    "        # 取 input\n",
    "        img = cv.imread(Root_Path + dataset[i][0])\n",
    "        img_resize = cv.resize(img, (height, width))\n",
    "        \n",
    "    \n",
    "        # 把 img 放入 dataset\n",
    "        img_dataset[i] = img_resize/255.\n",
    "    return img_dataset, img_label\n",
    "\n",
    "# read the dataset with load func\n",
    "\n",
    "train_image_2, train_label_2 = load_dataset(len_train_meta, train_meta, 30, 30)\n",
    "test_image_2, test_label_2 = load_dataset(len_test_meta, test_meta, 30, 30)\n",
    "val_image_2, val_label_2 = load_dataset(len_val_meta, val_meta, 30, 30)"
   ]
  },
  {
   "cell_type": "code",
   "execution_count": 18,
   "metadata": {},
   "outputs": [
    {
     "name": "stderr",
     "output_type": "stream",
     "text": [
      "100%|████████████████████████████████████████████████████████████████████████| 63324/63324 [00:00<00:00, 339713.76it/s]\n",
      "100%|█████████████████████████████████████████████████████████████████████████████| 449/449 [00:00<00:00, 29659.70it/s]\n",
      "100%|████████████████████████████████████████████████████████████████████████████| 449/449 [00:00<00:00, 149665.62it/s]\n"
     ]
    }
   ],
   "source": [
    "from tqdm import tqdm\n",
    "import numpy as np\n",
    "\n",
    "train_label = np.zeros((len(train_label_2), 50))\n",
    "\n",
    "for i in tqdm(range(len(train_label_2))):\n",
    "    tmp = np.zeros(50)\n",
    "    tmp[int(train_label_2[i])] = 1\n",
    "    train_label[i] = tmp\n",
    "\n",
    "test_label = np.zeros((len(test_label_2), 50))\n",
    "\n",
    "for i in tqdm(range(len(test_label_2))):\n",
    "    tmp = np.zeros(50)\n",
    "    tmp[int(test_label_2[i])] = 1\n",
    "    test_label[i] = tmp\n",
    "    \n",
    "val_label = np.zeros((len(val_label_2), 50))\n",
    "\n",
    "for i in tqdm(range(len(val_label_2))):\n",
    "    tmp = np.zeros(50)\n",
    "    tmp[int(val_label_2[i])] = 1\n",
    "    val_label[i] = tmp"
   ]
  },
  {
   "cell_type": "code",
   "execution_count": 64,
   "metadata": {},
   "outputs": [
    {
     "name": "stdout",
     "output_type": "stream",
     "text": [
      "Model: \"sequential\"\n",
      "_________________________________________________________________\n",
      "Layer (type)                 Output Shape              Param #   \n",
      "=================================================================\n",
      "conv2d (Conv2D)              (None, 28, 28, 6)         168       \n",
      "_________________________________________________________________\n",
      "max_pooling2d (MaxPooling2D) (None, 14, 14, 6)         0         \n",
      "_________________________________________________________________\n",
      "conv2d_1 (Conv2D)            (None, 12, 12, 16)        880       \n",
      "_________________________________________________________________\n",
      "max_pooling2d_1 (MaxPooling2 (None, 6, 6, 16)          0         \n",
      "_________________________________________________________________\n",
      "conv2d_2 (Conv2D)            (None, 1, 1, 120)         69240     \n",
      "_________________________________________________________________\n",
      "flatten (Flatten)            (None, 120)               0         \n",
      "_________________________________________________________________\n",
      "dense (Dense)                (None, 84)                10164     \n",
      "_________________________________________________________________\n",
      "dense_1 (Dense)              (None, 50)                4250      \n",
      "=================================================================\n",
      "Total params: 84,702\n",
      "Trainable params: 84,702\n",
      "Non-trainable params: 0\n",
      "_________________________________________________________________\n"
     ]
    }
   ],
   "source": [
    "from keras import backend\n",
    "backend.clear_session()\n",
    "\n",
    "# Build a Simple Convolutional Neural Network with Keras\n",
    "from keras import models\n",
    "from keras import layers\n",
    "\n",
    "model = models.Sequential()\n",
    "model.add(layers.Conv2D(6, 3,input_shape=(30,30,3), padding=\"valid\", activation='relu') )\n",
    "model.add(layers.MaxPool2D(2,2))\n",
    "model.add(layers.Conv2D(16, 3, padding=\"valid\", activation=\"relu\"))\n",
    "model.add(layers.MaxPool2D(2,2))\n",
    "model.add(layers.Conv2D(120, 6, padding=\"valid\", activation=\"relu\"))\n",
    "model.add(layers.Flatten()) # expected 120\n",
    "model.add(layers.Dense(84, activation='relu'))\n",
    "model.add(layers.Dense(50, activation='softmax'))\n",
    "model.summary()"
   ]
  },
  {
   "cell_type": "code",
   "execution_count": 65,
   "metadata": {},
   "outputs": [],
   "source": [
    "from keras.optimizers import RMSprop\n",
    "model.compile(loss='categorical_crossentropy', optimizer=RMSprop(lr=0.001), metrics=['acc'])"
   ]
  },
  {
   "cell_type": "code",
   "execution_count": 66,
   "metadata": {},
   "outputs": [
    {
     "data": {
      "text/plain": [
       "(63324, 50)"
      ]
     },
     "execution_count": 66,
     "metadata": {},
     "output_type": "execute_result"
    }
   ],
   "source": [
    "train_image_2.shape\n",
    "train_label.shape"
   ]
  },
  {
   "cell_type": "code",
   "execution_count": 67,
   "metadata": {},
   "outputs": [
    {
     "name": "stdout",
     "output_type": "stream",
     "text": [
      "Epoch 1/10\n",
      "1267/1267 [==============================] - 24s 19ms/step - loss: 3.4658 - acc: 0.1041 - val_loss: 3.2664 - val_acc: 0.1269\n",
      "Epoch 2/10\n",
      "1267/1267 [==============================] - 19s 15ms/step - loss: 3.1476 - acc: 0.1643 - val_loss: 3.1374 - val_acc: 0.1381\n",
      "Epoch 3/10\n",
      "1267/1267 [==============================] - 19s 15ms/step - loss: 3.0206 - acc: 0.1907 - val_loss: 3.0477 - val_acc: 0.1670\n",
      "Epoch 4/10\n",
      "1267/1267 [==============================] - 22s 17ms/step - loss: 2.9343 - acc: 0.2080 - val_loss: 3.4672 - val_acc: 0.1180\n",
      "Epoch 5/10\n",
      "1267/1267 [==============================] - 19s 15ms/step - loss: 2.8685 - acc: 0.2246 - val_loss: 2.9577 - val_acc: 0.1737\n",
      "Epoch 6/10\n",
      "1267/1267 [==============================] - 20s 15ms/step - loss: 2.8162 - acc: 0.2354 - val_loss: 2.9137 - val_acc: 0.1826\n",
      "Epoch 7/10\n",
      "1267/1267 [==============================] - 22s 17ms/step - loss: 2.7709 - acc: 0.2449 - val_loss: 2.8747 - val_acc: 0.2094\n",
      "Epoch 8/10\n",
      "1267/1267 [==============================] - 20s 16ms/step - loss: 2.7292 - acc: 0.2542 - val_loss: 2.8968 - val_acc: 0.1960\n",
      "Epoch 9/10\n",
      "1267/1267 [==============================] - 20s 15ms/step - loss: 2.6911 - acc: 0.2640 - val_loss: 2.9543 - val_acc: 0.2049\n",
      "Epoch 10/10\n",
      "1267/1267 [==============================] - 24s 19ms/step - loss: 2.6559 - acc: 0.2699 - val_loss: 2.8895 - val_acc: 0.2071\n"
     ]
    }
   ],
   "source": [
    "history = model.fit(train_image_2, train_label, validation_data=(val_image_2,val_label), batch_size=50, epochs=10)"
   ]
  },
  {
   "cell_type": "code",
   "execution_count": 69,
   "metadata": {},
   "outputs": [
    {
     "data": {
      "image/png": "[encoded data removed]",
      "text/plain": [
       "<Figure size 432x288 with 1 Axes>"
      ]
     },
     "metadata": {
      "needs_background": "light"
     },
     "output_type": "display_data"
    },
    {
     "data": {
      "text/plain": [
       "<Figure size 432x288 with 0 Axes>"
      ]
     },
     "metadata": {},
     "output_type": "display_data"
    }
   ],
   "source": [
    "import matplotlib.pyplot as plt\n",
    "\n",
    "def plot_accuracy(history, miny=None):\n",
    "    acc = history.history['acc']\n",
    "    test_acc = history.history['val_acc']\n",
    "    epochs = range(len(acc))\n",
    "    plt.plot(epochs, acc, c = \"b\", label='train_acc')\n",
    "    plt.plot(epochs, test_acc, c = \"r\" ,label='val_acc')\n",
    "    plt.legend(loc=\"upper left\")\n",
    "\n",
    "    plt.title('accuracy') \n",
    "    plt.figure()\n",
    "    plt.show()\n",
    "    \n",
    "plot_accuracy(history)"
   ]
  },
  {
   "cell_type": "code",
   "execution_count": 70,
   "metadata": {},
   "outputs": [
    {
     "name": "stdout",
     "output_type": "stream",
     "text": [
      "[ 0.  0.  0.  0.  0.  0.  0.  0.  1.  1.  1.  1.  1.  1.  1.  1.  1.  2.\n",
      "  2.  2.  2.  2.  2.  2.  2.  2.  3.  3.  3.  3.  3.  3.  3.  3.  3.  4.\n",
      "  4.  4.  4.  4.  4.  4.  4.  4.  5.  5.  5.  5.  5.  5.  5.  5.  5.  6.\n",
      "  6.  6.  6.  6.  6.  6.  6.  6.  7.  7.  7.  7.  7.  7.  7.  7.  7.  8.\n",
      "  8.  8.  8.  8.  8.  8.  8.  8.  9.  9.  9.  9.  9.  9.  9.  9.  9. 10.\n",
      " 10. 10. 10. 10. 10. 10. 10. 10. 11. 11. 11. 11. 11. 11. 11. 11. 11. 12.\n",
      " 12. 12. 12. 12. 12. 12. 12. 12. 13. 13. 13. 13. 13. 13. 13. 13. 13. 14.\n",
      " 14. 14. 14. 14. 14. 14. 14. 14. 15. 15. 15. 15. 15. 15. 15. 15. 15. 16.\n",
      " 16. 16. 16. 16. 16. 16. 16. 16. 17. 17. 17. 17. 17. 17. 17. 17. 17. 18.\n",
      " 18. 18. 18. 18. 18. 18. 18. 18. 19. 19. 19. 19. 19. 19. 19. 19. 19. 20.\n",
      " 20. 20. 20. 20. 20. 20. 20. 20. 21. 21. 21. 21. 21. 21. 21. 21. 21. 22.\n",
      " 22. 22. 22. 22. 22. 22. 22. 22. 23. 23. 23. 23. 23. 23. 23. 23. 23. 24.\n",
      " 24. 24. 24. 24. 24. 24. 24. 24. 25. 25. 25. 25. 25. 25. 25. 25. 25. 26.\n",
      " 26. 26. 26. 26. 26. 26. 26. 26. 27. 27. 27. 27. 27. 27. 27. 27. 27. 28.\n",
      " 28. 28. 28. 28. 28. 28. 28. 28. 29. 29. 29. 29. 29. 29. 29. 29. 29. 30.\n",
      " 30. 30. 30. 30. 30. 30. 30. 30. 31. 31. 31. 31. 31. 31. 31. 31. 31. 32.\n",
      " 32. 32. 32. 32. 32. 32. 32. 32. 33. 33. 33. 33. 33. 33. 33. 33. 33. 34.\n",
      " 34. 34. 34. 34. 34. 34. 34. 34. 35. 35. 35. 35. 35. 35. 35. 35. 35. 36.\n",
      " 36. 36. 36. 36. 36. 36. 36. 36. 37. 37. 37. 37. 37. 37. 37. 37. 37. 38.\n",
      " 38. 38. 38. 38. 38. 38. 38. 38. 39. 39. 39. 39. 39. 39. 39. 39. 39. 40.\n",
      " 40. 40. 40. 40. 40. 40. 40. 40. 41. 41. 41. 41. 41. 41. 41. 41. 41. 42.\n",
      " 42. 42. 42. 42. 42. 42. 42. 42. 43. 43. 43. 43. 43. 43. 43. 43. 43. 44.\n",
      " 44. 44. 44. 44. 44. 44. 44. 44. 45. 45. 45. 45. 45. 45. 45. 45. 45. 46.\n",
      " 46. 46. 46. 46. 46. 46. 46. 46. 47. 47. 47. 47. 47. 47. 47. 47. 47. 48.\n",
      " 48. 48. 48. 48. 48. 48. 48. 48. 49. 49. 49. 49. 49. 49. 49. 49. 49.]\n",
      "[25  0  0 41 41  5  0 39 40 27  8 23 28 11  1 14  2 23 27  2  5  1  4 47\n",
      "  2 28 35 18  3  3  3  9  7  3  3  8 27  4  4 43  3 45  4  4  5 33  5  5\n",
      " 29 21 19  5  0  9  6 35  8 22 22 22  6 42  3  7 10  7 22  7 22  8 19 17\n",
      " 47  5 13 12  8  6 38 19 45  7 41  0 28 14  9 45 20  9  7  9  4 23  7 38\n",
      "  0  2  5 19 16  0 15  3 30  2 14 12  6  8  6  0 36 28 12 35 25  8 30 15\n",
      " 30  5 27 30 33 22 30 33 14 40 33 35 41 48 15 22 15 19 18 46  4 38 42 42\n",
      " 43 33 13 24 12 31 19 13 40 33 15 17 30 17 30 35 17  5 32 18 18 18 27 18\n",
      " 24 30 19 19  8 19 19 19 19 41 36 35 20 12 42 35 20 25 35 20 19 41 22 18\n",
      " 29 24  2  4 20 38  8 40 22 15 42 43 18 15 41  9 29 14 23 13 14 10 27 42\n",
      " 24 42 39 41 22 42  0 18  0  8  0 29 30  4 27 29 22  8  5 37 25  4  0  7\n",
      "  8  8 27 27  3  1  4  0 38  4  2 27  9  5 11 28  5  6  5  5 29 25  4 41\n",
      " 25  0 16 27 25  7 15 29 30 43 15 12 38 36 24 25 15 15 24 32 27 35 25 47\n",
      " 34 33 25 33  6 19 32 38 26 14 24 37 19  5 30 29 19 34 19 34 33 34 43 34\n",
      " 34 32 24 43 30  4 38 21 22 20 15 18 34 18 36 18 46 22 10 13 19 22 30 19\n",
      " 19 36 37 37 30 22 12 12 38 15 12 35 43 48 39 40 41 41 49 41 15 39 41 14\n",
      " 40 40 27 40 14 35 23  7  0  0 39 41 39 41 41 39 28 18 22 15 41 42 22 17\n",
      "  0 15 19 24 22 33  2 43 43 43 35 47 44 19 48 44 44 44 46 44  7 45 19 45\n",
      " 45 15 48 45 45 46 44 46 46  0  8 46 46 41  6  8 47 46 44  0 47 47 47 45\n",
      " 45 45 47 46 46 45 45 48 23 46 39 41 44 44 49 11 39]\n",
      "98\n",
      "21.83\n"
     ]
    }
   ],
   "source": [
    "preds = model.predict(test_image_2)\n",
    "pred_ans = np.argmax(preds, axis=1)\n",
    "\n",
    "print(test_label_2)\n",
    "print(pred_ans)\n",
    "\n",
    "counter = 0\n",
    "for i in range(len(pred_ans)):\n",
    "    if test_label_2[i] == pred_ans[i]:\n",
    "        counter = counter + 1\n",
    "        \n",
    "print(counter)\n",
    "print(round(counter/len(pred_ans)*100,2))"
   ]
  },
  {
   "cell_type": "code",
   "execution_count": null,
   "metadata": {},
   "outputs": [],
   "source": []
  }
 ],
 "metadata": {
  "kernelspec": {
   "display_name": "Python 3",
   "language": "python",
   "name": "python3"
  },
  "language_info": {
   "codemirror_mode": {
    "name": "ipython",
    "version": 3
   },
   "file_extension": ".py",
   "mimetype": "text/x-python",
   "name": "python",
   "nbconvert_exporter": "python",
   "pygments_lexer": "ipython3",
   "version": "3.8.8"
  }
 },
 "nbformat": 4,
 "nbformat_minor": 4
}
