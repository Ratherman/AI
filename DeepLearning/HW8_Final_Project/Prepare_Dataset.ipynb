{
 "cells": [
  {
   "cell_type": "markdown",
   "id": "f8b96993",
   "metadata": {},
   "source": [
    "# Create High Resolution Images\n",
    "* 將原始影像 resize 成 hr.width, hr.height 並將結果 assign 給 hr\n",
    "\n",
    "# Create Low Resolution Images\n",
    "1. 將 hr 透過 bicubic 的方式縮小 scale 倍，並將結果 assign 給 lr\n",
    "2. 將 lr 透過 bicubic 的方式放大 scale 倍，並將結果 assign 給 lr\n",
    "\n",
    "# DataType\n",
    "* 將 hr 和 lr 換成 np.float32 的格式\n",
    "\n",
    "# Tile\n",
    "* 將原始圖像切成固定大小(patch_size x patch_size)。"
   ]
  },
  {
   "cell_type": "code",
   "execution_count": 1,
   "id": "8b87c168",
   "metadata": {},
   "outputs": [
    {
     "name": "stderr",
     "output_type": "stream",
     "text": [
      "'pwd' is not recognized as an internal or external command,\n",
      "operable program or batch file.\n"
     ]
    }
   ],
   "source": [
    "import matplotlib.pyplot as plt\n",
    "import cv2 as cv\n",
    "import numpy as np\n",
    "import os\n",
    "\n",
    "#Flicker2K_Train_Imgs = \"../__HW8_DATA/....\"\n",
    "#Flicker2K_Valid_Imgs = \"../__HW8_DATA/....\"\n",
    "DIV2K_Train_Imgs = \"../__HW8_DATA/DIV2K_train_HR/\"\n",
    "DIV2K_Valid_Imgs = \"../__HW8_DATA/DIV2K_valid_HR\""
   ]
  }
 ],
 "metadata": {
  "kernelspec": {
   "display_name": "Python 3",
   "language": "python",
   "name": "python3"
  },
  "language_info": {
   "codemirror_mode": {
    "name": "ipython",
    "version": 3
   },
   "file_extension": ".py",
   "mimetype": "text/x-python",
   "name": "python",
   "nbconvert_exporter": "python",
   "pygments_lexer": "ipython3",
   "version": "3.7.10"
  }
 },
 "nbformat": 4,
 "nbformat_minor": 5
}
