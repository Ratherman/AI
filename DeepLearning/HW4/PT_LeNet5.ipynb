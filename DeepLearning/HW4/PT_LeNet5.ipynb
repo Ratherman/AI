{
 "cells": [
  {
   "cell_type": "markdown",
   "id": "2f1d975d",
   "metadata": {},
   "source": [
    "* [PyTorch Tutorial](https://pytorch.org/tutorials/beginner/blitz/cifar10_tutorial.html)\n",
    "* [Do not need softmax](https://stackoverflow.com/questions/55675345/should-i-use-softmax-as-output-when-using-cross-entropy-loss-in-pytorch)\n",
    "* I learned how to implement LeNet5\n",
    "* I learned how to train net on GPU"
   ]
  },
  {
   "cell_type": "code",
   "execution_count": 1,
   "id": "930870cc",
   "metadata": {},
   "outputs": [],
   "source": [
    "# I would like to plot my  diagram inside the cell.\n",
    "%matplotlib inline"
   ]
  },
  {
   "cell_type": "markdown",
   "id": "a34726b5",
   "metadata": {},
   "source": [
    "## My Customized Dataset Class\n",
    "In order to implement this section, I read two very good references:\n",
    "* [WRITING CUSTOM DATASETS, DATALOADERS AND TRANSFORMS](https://pytorch.org/tutorials/beginner/data_loading_tutorial.html)\n",
    "* [utkuozbulak/pytorch-custom-dataset-examples](https://github.com/utkuozbulak/pytorch-custom-dataset-examples)"
   ]
  },
  {
   "cell_type": "code",
   "execution_count": 2,
   "id": "f3ced8b9",
   "metadata": {},
   "outputs": [],
   "source": [
    "from torch.utils.data.dataset import Dataset\n",
    "from torchvision import transforms\n",
    "import numpy as np\n",
    "import pandas as pd\n",
    "import cv2 as cv\n",
    "\n",
    "class AnimalDataset(Dataset):\n",
    "    def __init__(self, root_path, subset, height, width):\n",
    "        self.root_path = root_path\n",
    "        \n",
    "        # Need it in __getitem__() to transform numpy array to tensor.\n",
    "        self.to_tensor = transforms.ToTensor()\n",
    "        \n",
    "        # Read CSV Metadata and convert it to numpy format\n",
    "        subset_txt = pd.read_csv(root_path + subset, sep=\" \")\n",
    "        self.np_subset_txt = np.array(subset_txt)\n",
    "        \n",
    "        # Need it in __len__()\n",
    "        self.count = len(self.np_subset_txt)\n",
    "        \n",
    "        # Need it in __getitem__() to resize image to desired size\n",
    "        self.height = height\n",
    "        self.width = width\n",
    "    \n",
    "    def __getitem__(self, index):\n",
    "        # Get Label\n",
    "        label = int(self.np_subset_txt[index][1])\n",
    "        \n",
    "        # Get Image\n",
    "        img = cv.imread(self.root_path + self.np_subset_txt[index][0])\n",
    "        img_resize = cv.resize(img, (self.height, self.width))/255.0\n",
    "        img_resize = img_resize.reshape(-1, self.height, self.width) # to make channel first\n",
    "        img_resize_tensor = self.to_tensor(img_resize)\n",
    "        return (img_resize, label)\n",
    "    \n",
    "    def __len__(self):\n",
    "        return self.count"
   ]
  },
  {
   "cell_type": "code",
   "execution_count": 3,
   "id": "1bc7a524",
   "metadata": {},
   "outputs": [],
   "source": [
    "AC_root_path=\"C:/Users/rathe/Desktop/Dataset/images/\"\n",
    "root_path = \"C:/Users/USER/Desktop/Projects/Github_Repo/AI/DeepLearning/__HW1_DATA/\"\n",
    "height = 30\n",
    "width = 30\n",
    "\n",
    "Train_Dataset = AnimalDataset(root_path = root_path, subset = \"train.txt\", height = height, width = width)\n",
    "Test_Dataset = AnimalDataset(root_path = root_path, subset = \"test.txt\", height = height, width = width)\n",
    "Val_Dataset = AnimalDataset(root_path = root_path, subset = \"val.txt\", height = height, width = width)"
   ]
  },
  {
   "cell_type": "markdown",
   "id": "ad6ebe13",
   "metadata": {},
   "source": [
    "## Define My DataLoader r.s.t. AnimalDataset"
   ]
  },
  {
   "cell_type": "code",
   "execution_count": 4,
   "id": "f44965e4",
   "metadata": {},
   "outputs": [],
   "source": [
    "import torch\n",
    "batch_size = 50\n",
    "shuffle = True\n",
    "\n",
    "Train_DataLoader = torch.utils.data.DataLoader(dataset=Train_Dataset, batch_size = batch_size, shuffle=shuffle)\n",
    "Test_DataLoader = torch.utils.data.DataLoader(dataset=Test_Dataset, batch_size = batch_size, shuffle=shuffle)\n",
    "Val_DataLoader = torch.utils.data.DataLoader(dataset=Val_Dataset, batch_size = batch_size, shuffle=shuffle)"
   ]
  },
  {
   "cell_type": "markdown",
   "id": "a7886b41",
   "metadata": {},
   "source": [
    "## Define a Convolutional Neural Network(Use GPU)"
   ]
  },
  {
   "cell_type": "code",
   "execution_count": 5,
   "id": "e309610c",
   "metadata": {},
   "outputs": [
    {
     "name": "stdout",
     "output_type": "stream",
     "text": [
      "cuda:0\n"
     ]
    },
    {
     "data": {
      "text/plain": [
       "LeNet(\n",
       "  (conv1): Conv2d(3, 6, kernel_size=(3, 3), stride=(1, 1))\n",
       "  (pool): MaxPool2d(kernel_size=2, stride=2, padding=0, dilation=1, ceil_mode=False)\n",
       "  (conv2): Conv2d(6, 16, kernel_size=(3, 3), stride=(1, 1))\n",
       "  (fc1): Linear(in_features=576, out_features=120, bias=True)\n",
       "  (fc2): Linear(in_features=120, out_features=84, bias=True)\n",
       "  (fc3): Linear(in_features=84, out_features=50, bias=True)\n",
       ")"
      ]
     },
     "execution_count": 5,
     "metadata": {},
     "output_type": "execute_result"
    }
   ],
   "source": [
    "import torch\n",
    "import torch.nn as nn\n",
    "import torch.nn.functional as F\n",
    "\n",
    "# Use GPU\n",
    "device = torch.device(\"cuda:0\" if torch.cuda.is_available() else \"cpu\")\n",
    "print(device)\n",
    "\n",
    "class LeNet(nn.Module):\n",
    "    def __init__(self):\n",
    "        super().__init__()\n",
    "        self.conv1 = nn.Conv2d(3, 6, 3)\n",
    "        self.pool = nn.MaxPool2d(2, 2)\n",
    "        self.conv2 = nn.Conv2d(6, 16, 3)\n",
    "        self.fc1 = nn.Linear(16 * 6 * 6, 120)\n",
    "        self.fc2 = nn.Linear(120, 84)\n",
    "        self.fc3 = nn.Linear(84, 50)\n",
    "        \n",
    "    def forward(self, x):\n",
    "        x = self.pool(F.relu(self.conv1(x)))\n",
    "        x = self.pool(F.relu(self.conv2(x)))\n",
    "        x = x.view(-1, 16 * 6 * 6)\n",
    "        x = F.relu(self.fc1(x))\n",
    "        x = F.relu(self.fc2(x))\n",
    "        x = self.fc3(x)\n",
    "        #x = F.softmax(x)\n",
    "        return x\n",
    "    \n",
    "lenet = LeNet()\n",
    "lenet.to(device)"
   ]
  },
  {
   "cell_type": "markdown",
   "id": "9bbd5bb9",
   "metadata": {},
   "source": [
    "## Define a loss function and Set up Hyperparameters"
   ]
  },
  {
   "cell_type": "code",
   "execution_count": 6,
   "id": "6315f174",
   "metadata": {},
   "outputs": [],
   "source": [
    "import torch.optim as optim\n",
    "\n",
    "criterion = nn.CrossEntropyLoss()\n",
    "optimizer = optim.RMSprop(lenet.parameters(), lr=1e-3)"
   ]
  },
  {
   "cell_type": "markdown",
   "id": "9b52c035",
   "metadata": {},
   "source": [
    "## Train the network on the training data\n",
    "# How to use validation dataset\n",
    "# Try to implement it as a function to call"
   ]
  },
  {
   "cell_type": "code",
   "execution_count": 8,
   "id": "cf2c83e5",
   "metadata": {},
   "outputs": [
    {
     "name": "stdout",
     "output_type": "stream",
     "text": [
      "[1,   200] loss: 3.654\n",
      "[1,   400] loss: 3.625\n",
      "[1,   600] loss: 3.607\n",
      "[1,   800] loss: 3.586\n",
      "[1,  1000] loss: 3.565\n",
      "[1,  1200] loss: 3.554\n"
     ]
    },
    {
     "name": "stderr",
     "output_type": "stream",
     "text": [
      "100%|██████████████████████████████████████████████████████████████████████████████| 1267/1267 [02:19<00:00,  9.09it/s]\n"
     ]
    },
    {
     "name": "stdout",
     "output_type": "stream",
     "text": [
      "Accuracy of the network on the train images: 7 %\n",
      "Accuracy of the network on the val images: 7 %\n",
      "[2,   200] loss: 3.537\n",
      "[2,   400] loss: 3.506\n",
      "[2,   600] loss: 3.487\n",
      "[2,   800] loss: 3.481\n",
      "[2,  1000] loss: 3.478\n",
      "[2,  1200] loss: 3.471\n"
     ]
    },
    {
     "name": "stderr",
     "output_type": "stream",
     "text": [
      "100%|██████████████████████████████████████████████████████████████████████████████| 1267/1267 [02:34<00:00,  8.18it/s]\n"
     ]
    },
    {
     "name": "stdout",
     "output_type": "stream",
     "text": [
      "Accuracy of the network on the train images: 10 %\n",
      "Accuracy of the network on the val images: 10 %\n",
      "[3,   200] loss: 3.458\n",
      "[3,   400] loss: 3.429\n",
      "[3,   600] loss: 3.434\n",
      "[3,   800] loss: 3.432\n",
      "[3,  1000] loss: 3.411\n",
      "[3,  1200] loss: 3.406\n"
     ]
    },
    {
     "name": "stderr",
     "output_type": "stream",
     "text": [
      "100%|██████████████████████████████████████████████████████████████████████████████| 1267/1267 [02:12<00:00,  9.53it/s]\n"
     ]
    },
    {
     "name": "stdout",
     "output_type": "stream",
     "text": [
      "Accuracy of the network on the train images: 11 %\n",
      "Accuracy of the network on the val images: 11 %\n",
      "[4,   200] loss: 3.396\n",
      "[4,   400] loss: 3.386\n",
      "[4,   600] loss: 3.377\n",
      "[4,   800] loss: 3.388\n",
      "[4,  1000] loss: 3.385\n",
      "[4,  1200] loss: 3.365\n"
     ]
    },
    {
     "name": "stderr",
     "output_type": "stream",
     "text": [
      "100%|██████████████████████████████████████████████████████████████████████████████| 1267/1267 [02:09<00:00,  9.75it/s]\n"
     ]
    },
    {
     "name": "stdout",
     "output_type": "stream",
     "text": [
      "Accuracy of the network on the train images: 11 %\n",
      "Accuracy of the network on the val images: 11 %\n",
      "[5,   200] loss: 3.351\n",
      "[5,   400] loss: 3.342\n",
      "[5,   600] loss: 3.335\n",
      "[5,   800] loss: 3.347\n",
      "[5,  1000] loss: 3.348\n",
      "[5,  1200] loss: 3.351\n"
     ]
    },
    {
     "name": "stderr",
     "output_type": "stream",
     "text": [
      "100%|██████████████████████████████████████████████████████████████████████████████| 1267/1267 [02:23<00:00,  8.82it/s]\n"
     ]
    },
    {
     "name": "stdout",
     "output_type": "stream",
     "text": [
      "Accuracy of the network on the train images: 12 %\n",
      "Accuracy of the network on the val images: 12 %\n",
      "[6,   200] loss: 3.310\n",
      "[6,   400] loss: 3.310\n",
      "[6,   600] loss: 3.313\n",
      "[6,   800] loss: 3.318\n",
      "[6,  1000] loss: 3.298\n",
      "[6,  1200] loss: 3.314\n"
     ]
    },
    {
     "name": "stderr",
     "output_type": "stream",
     "text": [
      "100%|██████████████████████████████████████████████████████████████████████████████| 1267/1267 [02:14<00:00,  9.44it/s]\n"
     ]
    },
    {
     "name": "stdout",
     "output_type": "stream",
     "text": [
      "Accuracy of the network on the train images: 12 %\n",
      "Accuracy of the network on the val images: 12 %\n",
      "[7,   200] loss: 3.279\n",
      "[7,   400] loss: 3.270\n",
      "[7,   600] loss: 3.280\n",
      "[7,   800] loss: 3.293\n",
      "[7,  1000] loss: 3.285\n",
      "[7,  1200] loss: 3.275\n"
     ]
    },
    {
     "name": "stderr",
     "output_type": "stream",
     "text": [
      "100%|██████████████████████████████████████████████████████████████████████████████| 1267/1267 [02:11<00:00,  9.63it/s]\n"
     ]
    },
    {
     "name": "stdout",
     "output_type": "stream",
     "text": [
      "Accuracy of the network on the train images: 13 %\n",
      "Accuracy of the network on the val images: 13 %\n",
      "[8,   200] loss: 3.252\n",
      "[8,   400] loss: 3.271\n",
      "[8,   600] loss: 3.256\n",
      "[8,   800] loss: 3.256\n",
      "[8,  1000] loss: 3.243\n",
      "[8,  1200] loss: 3.226\n"
     ]
    },
    {
     "name": "stderr",
     "output_type": "stream",
     "text": [
      "100%|██████████████████████████████████████████████████████████████████████████████| 1267/1267 [02:14<00:00,  9.42it/s]\n"
     ]
    },
    {
     "name": "stdout",
     "output_type": "stream",
     "text": [
      "Accuracy of the network on the train images: 14 %\n",
      "Accuracy of the network on the val images: 14 %\n",
      "[9,   200] loss: 3.229\n",
      "[9,   400] loss: 3.228\n",
      "[9,   600] loss: 3.225\n",
      "[9,   800] loss: 3.214\n",
      "[9,  1000] loss: 3.201\n",
      "[9,  1200] loss: 3.229\n"
     ]
    },
    {
     "name": "stderr",
     "output_type": "stream",
     "text": [
      "100%|██████████████████████████████████████████████████████████████████████████████| 1267/1267 [02:17<00:00,  9.19it/s]\n"
     ]
    },
    {
     "name": "stdout",
     "output_type": "stream",
     "text": [
      "Accuracy of the network on the train images: 14 %\n",
      "Accuracy of the network on the val images: 14 %\n",
      "[10,   200] loss: 3.194\n",
      "[10,   400] loss: 3.199\n",
      "[10,   600] loss: 3.206\n",
      "[10,   800] loss: 3.195\n",
      "[10,  1000] loss: 3.189\n",
      "[10,  1200] loss: 3.188\n"
     ]
    },
    {
     "name": "stderr",
     "output_type": "stream",
     "text": [
      "100%|██████████████████████████████████████████████████████████████████████████████| 1267/1267 [02:17<00:00,  9.21it/s]\n"
     ]
    },
    {
     "name": "stdout",
     "output_type": "stream",
     "text": [
      "Accuracy of the network on the train images: 15 %\n",
      "Accuracy of the network on the val images: 15 %\n",
      "2781.66419172287\n",
      "Finished Training\n"
     ]
    }
   ],
   "source": [
    "from tqdm import tqdm\n",
    "import time\n",
    "\n",
    "tic = time.time()\n",
    "val_acc_list = []\n",
    "train_acc_list = []\n",
    "loss_list = []\n",
    "for epoch in range(10):  # loop over the dataset multiple times\n",
    "\n",
    "    running_loss = 0.0\n",
    "    for i, data in enumerate(Train_DataLoader, 0):\n",
    "        inputs, labels = data[0].to(device), data[1].to(device) # GPU\n",
    "        #inputs, labels = data # CPU\n",
    "        \n",
    "        # zero the parameter gradients\n",
    "        optimizer.zero_grad()\n",
    "\n",
    "        # forward + backward + optimize\n",
    "        outputs = lenet(inputs.float())\n",
    "        loss = criterion(outputs, labels)\n",
    "        loss.backward()\n",
    "        optimizer.step()\n",
    "\n",
    "    # print statistics\n",
    "        running_loss += loss.item()\n",
    "        if i % 200 == 199:    # print every 200 mini-batches\n",
    "            print('[%d, %5d] loss: %.3f' % (epoch + 1, i + 1, running_loss / 200))\n",
    "            loss_list.append(running_loss / 200)\n",
    "            running_loss = 0.0\n",
    "    \n",
    "    correct = 0\n",
    "    total = 0\n",
    "    # Train\n",
    "    with torch.no_grad(): # since we're not training, we don't need to calculate the gradients for our outputs\n",
    "        for datum in tqdm(Train_DataLoader):\n",
    "            imgs, labs = datum[0].to(device), datum[1].to(device)\n",
    "            # calculate outputs by running images through the network \n",
    "            outputs = lenet(imgs.float())\n",
    "            # the class with the highest energy is what we choose as prediction\n",
    "            _, preds = torch.max(outputs.data, 1)\n",
    "            total += labs.size(0)\n",
    "            correct += (preds == labs).sum().item()\n",
    "        train_tmp_acc = float(correct)/float(total)\n",
    "        train_acc_list.append(train_tmp_acc)\n",
    "        print('Accuracy of the network on the train images: %d %%' % (100 * correct / total))\n",
    "    # Val\n",
    "    with torch.no_grad(): # since we're not training, we don't need to calculate the gradients for our outputs\n",
    "        for datum in Val_DataLoader:\n",
    "            imgs, labs = datum[0].to(device), datum[1].to(device)\n",
    "            # calculate outputs by running images through the network \n",
    "            outputs = lenet(imgs.float())\n",
    "            # the class with the highest energy is what we choose as prediction\n",
    "            _, preds = torch.max(outputs.data, 1)\n",
    "            total += labs.size(0)\n",
    "            correct += (preds == labs).sum().item()    \n",
    "        val_tmp_acc = float(correct)/float(total)\n",
    "        val_acc_list.append(val_tmp_acc)\n",
    "        print('Accuracy of the network on the val images: %d %%' % (100 * correct / total))\n",
    "\n",
    "toc = time.time()\n",
    "print(toc - tic)\n",
    "print('Finished Training')"
   ]
  },
  {
   "cell_type": "code",
   "execution_count": 12,
   "id": "814c61b1",
   "metadata": {},
   "outputs": [
    {
     "data": {
      "image/png": "[encoded data removed]",
      "text/plain": [
       "<Figure size 1440x720 with 1 Axes>"
      ]
     },
     "metadata": {
      "needs_background": "light"
     },
     "output_type": "display_data"
    }
   ],
   "source": [
    "import matplotlib.pyplot as plt\n",
    "\n",
    "plt.figure(figsize=(20, 10))\n",
    "plt.xlabel(\"Epochs\", fontsize = 20)\n",
    "plt.ylabel(\"Accuracy %\", fontsize = 20)\n",
    "\n",
    "plt.plot(val_acc_list, label = \"val acc.\")\n",
    "plt.plot(train_acc_list, label = \"train acc.\")\n",
    "plt.legend(loc=2, fontsize=20)\n",
    "plt.show()"
   ]
  },
  {
   "cell_type": "code",
   "execution_count": 19,
   "id": "bb9a4c20",
   "metadata": {},
   "outputs": [
    {
     "data": {
      "image/png": "[encoded data removed]",
      "text/plain": [
       "<Figure size 1440x720 with 1 Axes>"
      ]
     },
     "metadata": {
      "needs_background": "light"
     },
     "output_type": "display_data"
    }
   ],
   "source": [
    "plt.figure(figsize=(20, 10))\n",
    "\n",
    "plt.plot(loss_list)\n",
    "plt.xlabel(\"Probes\", fontsize = 20)\n",
    "plt.ylabel(\"Loss\", fontsize = 20)\n",
    "plt.show()"
   ]
  },
  {
   "cell_type": "markdown",
   "id": "123d0471",
   "metadata": {},
   "source": [
    "## Save the model for later usage"
   ]
  },
  {
   "cell_type": "code",
   "execution_count": 21,
   "id": "4cfda673",
   "metadata": {},
   "outputs": [],
   "source": [
    "PATH = './LeNet.pth'\n",
    "torch.save(lenet.state_dict(), PATH)"
   ]
  },
  {
   "cell_type": "markdown",
   "id": "f2a22d2a",
   "metadata": {},
   "source": [
    "## Test the network on the test data"
   ]
  },
  {
   "cell_type": "code",
   "execution_count": 22,
   "id": "fd5de62a",
   "metadata": {},
   "outputs": [
    {
     "name": "stdout",
     "output_type": "stream",
     "text": [
      "Accuracy of the network on the test images: 14 %\n"
     ]
    }
   ],
   "source": [
    "lenet = LeNet()\n",
    "lenet.load_state_dict(torch.load(PATH))\n",
    "\n",
    "correct = 0\n",
    "total = 0\n",
    "\n",
    "with torch.no_grad(): # since we're not training, we don't need to calculate the gradients for our outputs\n",
    "    for data in Test_DataLoader:\n",
    "        images, labels = data\n",
    "        # calculate outputs by running images through the network \n",
    "        outputs = lenet(images.float())\n",
    "        # the class with the highest energy is what we choose as prediction\n",
    "        _, predicted = torch.max(outputs.data, 1)\n",
    "        total += labels.size(0)\n",
    "        correct += (predicted == labels).sum().item()\n",
    "\n",
    "print('Accuracy of the network on the test images: %d %%' % (100 * correct / total))"
   ]
  }
 ],
 "metadata": {
  "kernelspec": {
   "display_name": "Python 3",
   "language": "python",
   "name": "python3"
  },
  "language_info": {
   "codemirror_mode": {
    "name": "ipython",
    "version": 3
   },
   "file_extension": ".py",
   "mimetype": "text/x-python",
   "name": "python",
   "nbconvert_exporter": "python",
   "pygments_lexer": "ipython3",
   "version": "3.7.10"
  }
 },
 "nbformat": 4,
 "nbformat_minor": 5
}
