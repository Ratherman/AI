{
 "cells": [
  {
   "cell_type": "code",
   "execution_count": null,
   "id": "5c60a44a",
   "metadata": {},
   "outputs": [],
   "source": [
    "import tensorflow as tf\n",
    "\n",
    "print(\"Num GPUs Available\", len(tf.config.experimental.list_physical_devices(\"GPU\")))\n",
    "\n",
    "from tensorflow.python.client import device_lib\n",
    "print(device_lib.list_local_devices())"
   ]
  },
  {
   "cell_type": "code",
   "execution_count": null,
   "id": "c6fc71b8",
   "metadata": {},
   "outputs": [],
   "source": [
    "import pathlib\n",
    "AC_Dataset_Path=\"C:/Users/rathe/Desktop/Dataset/images/images/\"\n",
    "Dataset_Path = \"C:/Users/USER/Desktop/Projects/Github_Repo/AI/DeepLearning/__HW1_DATA/images/\"\n",
    "data_dir = pathlib.Path(Dataset_Path)"
   ]
  },
  {
   "cell_type": "code",
   "execution_count": null,
   "id": "06962612",
   "metadata": {},
   "outputs": [],
   "source": [
    "image_count = len(list(data_dir.glob(\"*/*.jpeg\")))\n",
    "print(image_count)"
   ]
  },
  {
   "cell_type": "code",
   "execution_count": null,
   "id": "ca502cfd",
   "metadata": {},
   "outputs": [],
   "source": [
    "import PIL.Image\n",
    "\n",
    "black_dogs = list(data_dir.glob(\"n02111277/*\"))\n",
    "PIL.Image.open(str(black_dogs[0]))"
   ]
  },
  {
   "cell_type": "code",
   "execution_count": null,
   "id": "66a137c5",
   "metadata": {},
   "outputs": [],
   "source": []
  },
  {
   "cell_type": "code",
   "execution_count": null,
   "id": "7e4ff2b0",
   "metadata": {},
   "outputs": [],
   "source": [
    "import tensorflow as tf"
   ]
  },
  {
   "cell_type": "code",
   "execution_count": null,
   "id": "b2462a49",
   "metadata": {},
   "outputs": [],
   "source": [
    "batch_size = 50\n",
    "img_height = 100\n",
    "img_width  = 100"
   ]
  },
  {
   "cell_type": "code",
   "execution_count": null,
   "id": "c9061011",
   "metadata": {},
   "outputs": [],
   "source": [
    "import numpy as np\n",
    "img_gen = tf.keras.preprocessing.image.ImageDataGenerator(rescale=1./255, validation_split=0.01)\n",
    "#mean = np.array([123.68, 116.779, 103.939], dtype=\"float32\")\n",
    "#img_gen.mean = mean\n",
    "\n",
    "train_generator = img_gen.flow_from_directory(\n",
    "    data_dir,\n",
    "    target_size=(img_height, img_width),\n",
    "    batch_size=batch_size,\n",
    "    class_mode='categorical',\n",
    "    subset='training')\n",
    "\n",
    "validation_generator = img_gen.flow_from_directory(\n",
    "    data_dir, # same directory as training data\n",
    "    target_size=(img_height, img_width),\n",
    "    batch_size=batch_size,\n",
    "    class_mode='categorical',\n",
    "    subset='validation') # set as validation data\n",
    "\n",
    "# Wrap the generator with tf.data\n",
    "#ds = tf.data.Dataset.from_generator(\n",
    "#    lambda: img_gen.flow_from_directory(data_dir,\n",
    "#            class_mode=\"categorical\",\n",
    "#            target_size=(30, 30),\n",
    "#            color_mode=\"rgb\",\n",
    "#            batch_size = 50,\n",
    "#            shuffle=True),\n",
    "#    output_types=(tf.float32, tf.float32),\n",
    "#    output_shapes = ([None,30,30,3],[None,50])\n",
    "#)\n",
    "\n",
    "#ds"
   ]
  },
  {
   "cell_type": "code",
   "execution_count": null,
   "id": "e54bb4e4",
   "metadata": {},
   "outputs": [],
   "source": []
  },
  {
   "cell_type": "code",
   "execution_count": null,
   "id": "a16d332e",
   "metadata": {},
   "outputs": [],
   "source": [
    "from imutils import paths\n",
    "total_data = len(list(paths.list_images(data_dir)))\n",
    "total_data"
   ]
  },
  {
   "cell_type": "code",
   "execution_count": null,
   "id": "1a108c43",
   "metadata": {},
   "outputs": [],
   "source": [
    "from tensorflow.keras.optimizers import RMSprop\n",
    "from tensorflow.keras import layers\n",
    "\n",
    "# Lenet5 Version\n",
    "\n",
    "num_classes = 50\n",
    "\n",
    "model = tf.keras.Sequential([\n",
    "    layers.Conv2D(6, 3, input_shape=(100, 100, 3) ,activation=\"relu\"),\n",
    "    layers.MaxPooling2D(),\n",
    "    layers.Conv2D(16, 3, activation=\"relu\"),\n",
    "    layers.MaxPooling2D(),\n",
    "    layers.Conv2D(120, 6, activation=\"relu\"),\n",
    "    layers.Flatten(),\n",
    "    layers.Dense(84, activation=\"relu\"),\n",
    "    layers.Dense(num_classes, activation=\"softmax\"),\n",
    "])\n",
    "\n",
    "print(model.summary())\n",
    "\n",
    "model.compile(loss='categorical_crossentropy', optimizer=RMSprop(lr=0.001), metrics=['acc'])"
   ]
  },
  {
   "cell_type": "code",
   "execution_count": null,
   "id": "5bd50b81",
   "metadata": {},
   "outputs": [],
   "source": []
  },
  {
   "cell_type": "code",
   "execution_count": null,
   "id": "8e7f03f7",
   "metadata": {},
   "outputs": [],
   "source": [
    "history = model.fit_generator(train_generator, steps_per_epoch=63584//50, epochs=10, verbose=1, validation_data=validation_generator, validation_steps=641//50)"
   ]
  },
  {
   "cell_type": "code",
   "execution_count": null,
   "id": "88506de6",
   "metadata": {},
   "outputs": [],
   "source": [
    "import matplotlib.pyplot as plt\n",
    "\n",
    "def plot_accuracy(history, miny=None):\n",
    "    acc = history.history['acc']\n",
    "    test_acc = history.history['val_acc']\n",
    "    epochs = range(len(acc))\n",
    "    plt.plot(epochs, acc, c = \"b\", label='train_acc')\n",
    "    plt.plot(epochs, test_acc, c = \"r\" ,label='val_acc')\n",
    "    plt.legend(loc=\"upper left\")\n",
    "\n",
    "    plt.title('accuracy') \n",
    "    plt.figure()\n",
    "    plt.show()\n",
    "    \n",
    "plot_accuracy(history)\n"
   ]
  },
  {
   "cell_type": "code",
   "execution_count": null,
   "id": "418c5089",
   "metadata": {},
   "outputs": [],
   "source": [
    "batch_size = 50\n",
    "img_height = 256\n",
    "img_width  = 256\n",
    "\n",
    "import numpy as np\n",
    "img_gen = tf.keras.preprocessing.image.ImageDataGenerator(rescale=1./255, validation_split=0.01)\n",
    "#mean = np.array([123.68, 116.779, 103.939], dtype=\"float32\")\n",
    "#img_gen.mean = mean\n",
    "\n",
    "train_generator = img_gen.flow_from_directory(\n",
    "    data_dir,\n",
    "    target_size=(img_height, img_width),\n",
    "    batch_size=batch_size,\n",
    "    class_mode='categorical',\n",
    "    subset='training')\n",
    "\n",
    "validation_generator = img_gen.flow_from_directory(\n",
    "    data_dir, # same directory as training data\n",
    "    target_size=(img_height, img_width),\n",
    "    batch_size=batch_size,\n",
    "    class_mode='categorical',\n",
    "    subset='validation') # set as validation data"
   ]
  },
  {
   "cell_type": "code",
   "execution_count": null,
   "id": "6beea7f2",
   "metadata": {},
   "outputs": [],
   "source": [
    "from tensorflow.keras.optimizers import RMSprop\n",
    "from tensorflow.keras import layers\n",
    "\n",
    "# Improved Lenet5 Version\n",
    "\n",
    "num_classes = 50\n",
    "\n",
    "model = tf.keras.Sequential([\n",
    "    layers.Conv2D(6, 3, input_shape=(256, 256, 3) ,activation=\"relu\"),\n",
    "    layers.MaxPooling2D(),\n",
    "    layers.Conv2D(16, 3, activation=\"relu\"),\n",
    "    layers.MaxPooling2D(),\n",
    "    layers.Conv2D(32, 3, activation=\"relu\"),\n",
    "    layers.MaxPooling2D(),\n",
    "    layers.Conv2D(64, 3, activation=\"relu\"),\n",
    "    layers.MaxPooling2D(),\n",
    "    layers.Conv2D(128, 3, activation=\"relu\"),\n",
    "    layers.MaxPooling2D(),\n",
    "    layers.Flatten(),\n",
    "    layers.Dense(300, activation=\"relu\"),\n",
    "    layers.Dense(84, activation=\"relu\"),\n",
    "    layers.Dense(num_classes, activation=\"softmax\"),\n",
    "])\n",
    "\n",
    "print(model.summary())\n",
    "\n",
    "model.compile(loss='categorical_crossentropy', optimizer=RMSprop(lr=0.001), metrics=['acc'])"
   ]
  },
  {
   "cell_type": "code",
   "execution_count": null,
   "id": "e6377028",
   "metadata": {},
   "outputs": [],
   "source": [
    "history2 = model.fit_generator(train_generator, steps_per_epoch=63584//50, epochs=10, verbose=1, validation_data=validation_generator, validation_steps=641//50)"
   ]
  },
  {
   "cell_type": "code",
   "execution_count": null,
   "id": "f1f03c86",
   "metadata": {},
   "outputs": [],
   "source": [
    "import matplotlib.pyplot as plt\n",
    "\n",
    "def plot_accuracy(history, miny=None):\n",
    "    acc = history.history['acc']\n",
    "    test_acc = history.history['val_acc']\n",
    "    epochs = range(len(acc))\n",
    "    plt.plot(epochs, acc, c = \"b\", label='train_acc')\n",
    "    plt.plot(epochs, test_acc, c = \"r\" ,label='val_acc')\n",
    "    plt.legend(loc=\"upper left\")\n",
    "\n",
    "    plt.title('accuracy') \n",
    "    plt.figure()\n",
    "    plt.show()\n",
    "    \n",
    "plot_accuracy(history)"
   ]
  },
  {
   "cell_type": "code",
   "execution_count": null,
   "id": "6e23c46a",
   "metadata": {},
   "outputs": [],
   "source": []
  },
  {
   "cell_type": "code",
   "execution_count": null,
   "id": "678dbed1",
   "metadata": {},
   "outputs": [],
   "source": [
    "from tensorflow.keras.optimizers import RMSprop\n",
    "from tensorflow.keras import layers\n",
    "from tensorflow.keras.regularizers import l2\n",
    "\n",
    "factor = 0.0001\n",
    "num_classes = 50\n",
    "rate = 0.2\n",
    "\n",
    "model = tf.keras.Sequential([\n",
    "    layers.Conv2D(6, 3, kernel_regularizer=l2(factor), input_shape = (256, 256, 3), activation = \"relu\"),\n",
    "    layers.BatchNormalization(),\n",
    "    layers.MaxPooling2D(),\n",
    "    layers.Dropout(rate),\n",
    "    \n",
    "    layers.Conv2D(16, 3, kernel_regularizer=l2(factor), activtaion = \"relu\"),\n",
    "    layers.BatchNormalization(),\n",
    "    layers.MaxPooling2D(),\n",
    "    layers.Dropout(rate),\n",
    "    \n",
    "    layers.Conv2D(32, 3, kernel_regularizer=l2(factor), activation = \"relu\"),\n",
    "    layers.BatchNormalization(),\n",
    "    layers.MaxPooling2D(),\n",
    "    layers.Dropout(rate),\n",
    "    \n",
    "    layers.Conv2D(64, 3, kernel_regularizer=l2(factor), activation = \"relu\"),\n",
    "    layers.BatchNormalization(),\n",
    "    layers.MaxPooling2D(),\n",
    "    layers.Dropout(rate),\n",
    "    \n",
    "    layers.Conv2D(128, 3, kernel_regularizer=l2(factor), activation = \"relu\"),\n",
    "    layers.BatchNormalization(),\n",
    "    layers.MaxPooling2D(),\n",
    "    layers.Dropout(rate),\n",
    "    \n",
    "    layers.Flatten(),\n",
    "    \n",
    "    layers.Dense(1000, kernel_regularizer=l2(factor), activation = \"relu\"),\n",
    "    layers.BatchNormalization(),\n",
    "    layers.Dropout(rate),\n",
    "    \n",
    "    layers.Dense(300, kernel_regularizer=l2(factor), activation = \"relu\"),\n",
    "    layers.BatchNormalization(),\n",
    "    layers.Dropout(rate),\n",
    "    \n",
    "    layers.Dense(84, kernel_regularizer=l2(factor), activation = \"relu\"),\n",
    "    layers.BatchNormalization(),\n",
    "    layers.Dropout(rate),\n",
    "    \n",
    "    layers.Dense(num_class, activation = \"softmax\"),\n",
    "])"
   ]
  }
 ],
 "metadata": {
  "kernelspec": {
   "display_name": "Python 3",
   "language": "python",
   "name": "python3"
  },
  "language_info": {
   "codemirror_mode": {
    "name": "ipython",
    "version": 3
   },
   "file_extension": ".py",
   "mimetype": "text/x-python",
   "name": "python",
   "nbconvert_exporter": "python",
   "pygments_lexer": "ipython3",
   "version": "3.7.10"
  }
 },
 "nbformat": 4,
 "nbformat_minor": 5
}
