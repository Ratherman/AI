{
 "cells": [
  {
   "cell_type": "markdown",
   "id": "cbb2f8a7",
   "metadata": {},
   "source": [
    "# Read Data from the disk"
   ]
  },
  {
   "cell_type": "code",
   "execution_count": 1,
   "id": "443ba526",
   "metadata": {},
   "outputs": [
    {
     "name": "stdout",
     "output_type": "stream",
     "text": [
      "[Check] There are 63324 pairs in train.txt.\n",
      "[Check] There are 449 pairs in test.txt.\n",
      "[Check] There are 449 pairs in val.txt.\n",
      "\n",
      "The shape of test_meta is (449, 2)\n",
      "The path of 1st example in test_meta is images/n02111277/n02111277_9422.JPEG\n",
      "The label of 1st example in test_meta is 0\n"
     ]
    }
   ],
   "source": [
    "# [Input Vars]\n",
    "#   1. <string> PATH_TO_DESIRED_LOCATION: It should be the directory containing (1) images/ (2) train.txt (3) test.txt (4) val.txt\n",
    "\n",
    "# [Output Vars]\n",
    "#   1. <ndarray> np_train_txt: It contains both the directory to a specific image and the related label.\n",
    "#   2. <ndarray> np_test_txt: It contains both the directory to a specific image and the related label.\n",
    "#   3. <ndarray> np_val_txt: It contains both the directory to a specific image and the related label.\n",
    "import pandas as pd\n",
    "import numpy as np\n",
    "def read_metadata_files(Root_Path):\n",
    "    # train.txt\n",
    "    train_txt = pd.read_csv(Root_Path+\"train.txt\", sep=\" \")\n",
    "    NP_TRAIN_TXT = np.array(train_txt)\n",
    "    \n",
    "    # test.txt\n",
    "    test_txt = pd.read_csv(Root_Path+\"test.txt\", sep=\" \")\n",
    "    NP_TEST_TXT = np.array(test_txt)\n",
    "    \n",
    "    # val.txt\n",
    "    val_txt = pd.read_csv(Root_Path+\"val.txt\", sep=\" \")\n",
    "    NP_VAL_TXT = np.array(val_txt)\n",
    "    \n",
    "    print(f\"[Check] There are {NP_TRAIN_TXT.shape[0]} pairs in train.txt.\")\n",
    "    print(f\"[Check] There are {NP_TEST_TXT.shape[0]} pairs in test.txt.\")\n",
    "    print(f\"[Check] There are {NP_VAL_TXT.shape[0]} pairs in val.txt.\\n\")\n",
    "    \n",
    "    return NP_TRAIN_TXT, NP_TEST_TXT, NP_VAL_TXT, len(NP_TRAIN_TXT), len(NP_TEST_TXT), len(NP_VAL_TXT)\n",
    "\n",
    "Root_Path = \"C:/Users/USER/Desktop/Projects/Github_Repo/AI/DeepLearning/__HW1_DATA/\"\n",
    "AC_Dataset_Path=\"C:/Users/rathe/Desktop/Dataset/images/\"\n",
    "train_meta, test_meta, val_meta, len_train_meta, len_test_meta, len_val_meta = read_metadata_files(Root_Path)\n",
    "print(f\"The shape of test_meta is {test_meta.shape}\")\n",
    "print(f\"The path of 1st example in test_meta is {test_meta[0][0]}\")\n",
    "print(f\"The label of 1st example in test_meta is {test_meta[0][1]}\")"
   ]
  },
  {
   "cell_type": "code",
   "execution_count": 2,
   "id": "35fe6f61",
   "metadata": {},
   "outputs": [
    {
     "name": "stderr",
     "output_type": "stream",
     "text": [
      "100%|███████████████████████████████████████████████████████████████████████████| 63324/63324 [01:53<00:00, 558.07it/s]\n",
      "100%|███████████████████████████████████████████████████████████████████████████████| 449/449 [00:00<00:00, 581.53it/s]\n",
      "100%|███████████████████████████████████████████████████████████████████████████████| 449/449 [00:01<00:00, 272.64it/s]\n"
     ]
    }
   ],
   "source": [
    "from tqdm import tqdm\n",
    "import cv2 as cv\n",
    "import numpy as np\n",
    "\n",
    "def load_dataset(len_dataset, dataset, height, width):\n",
    "    img_dataset = np.zeros((len_dataset, height, width, 3))\n",
    "    img_label = np.zeros(len_dataset)\n",
    "\n",
    "    for i in tqdm(range(len_dataset)):\n",
    "        # 取 label\n",
    "        img_label[i] = int(dataset[i][1])\n",
    "        # 取 input\n",
    "        img = cv.imread(Root_Path + dataset[i][0])\n",
    "        img_resize = cv.resize(img, (height, width))\n",
    "        # 把 img 放入 dataset\n",
    "        img_dataset[i] = img_resize/255.\n",
    "    return img_dataset, img_label\n",
    "\n",
    "# read the dataset with load func\n",
    "\n",
    "train_image_2, train_label_2 = load_dataset(len_train_meta, train_meta, 30, 30)\n",
    "test_image_2, test_label_2 = load_dataset(len_test_meta, test_meta, 30, 30)\n",
    "val_image_2, val_label_2 = load_dataset(len_val_meta, val_meta, 30, 30)"
   ]
  },
  {
   "cell_type": "code",
   "execution_count": 3,
   "id": "eb0d8440",
   "metadata": {},
   "outputs": [
    {
     "name": "stderr",
     "output_type": "stream",
     "text": [
      "100%|████████████████████████████████████████████████████████████████████████| 63324/63324 [00:00<00:00, 304943.28it/s]\n",
      "100%|████████████████████████████████████████████████████████████████████████████| 449/449 [00:00<00:00, 149903.88it/s]\n",
      "100%|████████████████████████████████████████████████████████████████████████████| 449/449 [00:00<00:00, 224918.49it/s]\n"
     ]
    }
   ],
   "source": [
    "from tqdm import tqdm\n",
    "import numpy as np\n",
    "\n",
    "train_label = np.zeros((len(train_label_2), 50))\n",
    "\n",
    "for i in tqdm(range(len(train_label_2))):\n",
    "    tmp = np.zeros(50)\n",
    "    tmp[int(train_label_2[i])] = 1\n",
    "    train_label[i] = tmp\n",
    "\n",
    "test_label = np.zeros((len(test_label_2), 50))\n",
    "\n",
    "for i in tqdm(range(len(test_label_2))):\n",
    "    tmp = np.zeros(50)\n",
    "    tmp[int(test_label_2[i])] = 1\n",
    "    test_label[i] = tmp\n",
    "    \n",
    "val_label = np.zeros((len(val_label_2), 50))\n",
    "\n",
    "for i in tqdm(range(len(val_label_2))):\n",
    "    tmp = np.zeros(50)\n",
    "    tmp[int(val_label_2[i])] = 1\n",
    "    val_label[i] = tmp"
   ]
  },
  {
   "cell_type": "markdown",
   "id": "760c718e",
   "metadata": {},
   "source": [
    "# Build tf.keras Version LeNet5 (Static)"
   ]
  },
  {
   "cell_type": "code",
   "execution_count": 5,
   "id": "84b5ce8f",
   "metadata": {},
   "outputs": [
    {
     "name": "stdout",
     "output_type": "stream",
     "text": [
      "Model: \"sequential\"\n",
      "_________________________________________________________________\n",
      "Layer (type)                 Output Shape              Param #   \n",
      "=================================================================\n",
      "conv2d (Conv2D)              (None, 28, 28, 6)         168       \n",
      "_________________________________________________________________\n",
      "max_pooling2d (MaxPooling2D) (None, 14, 14, 6)         0         \n",
      "_________________________________________________________________\n",
      "conv2d_1 (Conv2D)            (None, 12, 12, 16)        880       \n",
      "_________________________________________________________________\n",
      "max_pooling2d_1 (MaxPooling2 (None, 6, 6, 16)          0         \n",
      "_________________________________________________________________\n",
      "conv2d_2 (Conv2D)            (None, 1, 1, 120)         69240     \n",
      "_________________________________________________________________\n",
      "flatten (Flatten)            (None, 120)               0         \n",
      "_________________________________________________________________\n",
      "dense (Dense)                (None, 84)                10164     \n",
      "_________________________________________________________________\n",
      "dense_1 (Dense)              (None, 50)                4250      \n",
      "=================================================================\n",
      "Total params: 84,702\n",
      "Trainable params: 84,702\n",
      "Non-trainable params: 0\n",
      "_________________________________________________________________\n",
      "None\n",
      "Train on 63324 samples, validate on 449 samples\n",
      "Epoch 1/10\n",
      "63324/63324 [==============================] - 20s 312us/sample - loss: 3.5512 - acc: 0.0849 - val_loss: 3.3370 - val_acc: 0.1069\n",
      "Epoch 2/10\n",
      "63324/63324 [==============================] - 12s 192us/sample - loss: 3.2484 - acc: 0.1433 - val_loss: 3.1495 - val_acc: 0.1693\n",
      "Epoch 3/10\n",
      "63324/63324 [==============================] - 12s 194us/sample - loss: 3.0964 - acc: 0.1759 - val_loss: 3.1220 - val_acc: 0.1759\n",
      "Epoch 4/10\n",
      "63324/63324 [==============================] - 13s 200us/sample - loss: 2.9911 - acc: 0.1964 - val_loss: 3.0012 - val_acc: 0.1938\n",
      "Epoch 5/10\n",
      "63324/63324 [==============================] - 13s 200us/sample - loss: 2.9122 - acc: 0.2149 - val_loss: 2.9796 - val_acc: 0.2294\n",
      "Epoch 6/10\n",
      "63324/63324 [==============================] - 13s 200us/sample - loss: 2.8537 - acc: 0.2254 - val_loss: 2.9682 - val_acc: 0.1893\n",
      "Epoch 7/10\n",
      "63324/63324 [==============================] - 13s 199us/sample - loss: 2.8021 - acc: 0.2391 - val_loss: 2.9835 - val_acc: 0.2116\n",
      "Epoch 8/10\n",
      "63324/63324 [==============================] - 14s 224us/sample - loss: 2.7572 - acc: 0.2484 - val_loss: 2.8859 - val_acc: 0.2249\n",
      "Epoch 9/10\n",
      "63324/63324 [==============================] - 13s 204us/sample - loss: 2.7207 - acc: 0.2567 - val_loss: 2.9891 - val_acc: 0.2071\n",
      "Epoch 10/10\n",
      "63324/63324 [==============================] - 13s 206us/sample - loss: 2.6839 - acc: 0.2655 - val_loss: 2.9470 - val_acc: 0.2138\n"
     ]
    },
    {
     "data": {
      "image/png": "[encoded data removed]",
      "text/plain": [
       "<Figure size 432x288 with 1 Axes>"
      ]
     },
     "metadata": {
      "needs_background": "light"
     },
     "output_type": "display_data"
    },
    {
     "data": {
      "text/plain": [
       "<Figure size 432x288 with 0 Axes>"
      ]
     },
     "metadata": {},
     "output_type": "display_data"
    }
   ],
   "source": [
    "from tensorflow.keras.optimizers import RMSprop\n",
    "from tensorflow.keras import layers\n",
    "import tensorflow as tf\n",
    "# Lenet5 Version\n",
    "\n",
    "num_classes = 50\n",
    "\n",
    "model = tf.keras.Sequential([\n",
    "    layers.Conv2D(6, 3, input_shape=(30, 30, 3) ,activation=\"relu\"),\n",
    "    layers.MaxPooling2D(),\n",
    "    layers.Conv2D(16, 3, activation=\"relu\"),\n",
    "    layers.MaxPooling2D(),\n",
    "    layers.Conv2D(120, 6, activation=\"relu\"),\n",
    "    layers.Flatten(),\n",
    "    layers.Dense(84, activation=\"relu\"),\n",
    "    layers.Dense(num_classes, activation=\"softmax\"),\n",
    "])\n",
    "\n",
    "print(model.summary())\n",
    "\n",
    "model.compile(loss='categorical_crossentropy', optimizer=RMSprop(lr=0.001), metrics=['acc'])\n",
    "history = model.fit(train_image_2, train_label, validation_data=(val_image_2,val_label), batch_size=50, epochs=10)\n",
    "\n",
    "import matplotlib.pyplot as plt\n",
    "\n",
    "def plot_accuracy(history, miny=None):\n",
    "    acc = history.history['acc']\n",
    "    test_acc = history.history['val_acc']\n",
    "    epochs = range(len(acc))\n",
    "    plt.plot(epochs, acc, c = \"b\", label='train_acc')\n",
    "    plt.plot(epochs, test_acc, c = \"r\" ,label='val_acc')\n",
    "    plt.legend(loc=\"upper left\")\n",
    "\n",
    "    plt.title('accuracy') \n",
    "    plt.figure()\n",
    "    plt.show()\n",
    "    \n",
    "plot_accuracy(history)"
   ]
  },
  {
   "cell_type": "code",
   "execution_count": 7,
   "id": "0b3eef89",
   "metadata": {},
   "outputs": [
    {
     "name": "stderr",
     "output_type": "stream",
     "text": [
      "No handles with labels found to put in legend.\n"
     ]
    },
    {
     "data": {
      "image/png": "[encoded data removed]",
      "text/plain": [
       "<Figure size 432x288 with 1 Axes>"
      ]
     },
     "metadata": {
      "needs_background": "light"
     },
     "output_type": "display_data"
    },
    {
     "data": {
      "text/plain": [
       "<Figure size 432x288 with 0 Axes>"
      ]
     },
     "metadata": {},
     "output_type": "display_data"
    }
   ],
   "source": [
    "loss = history.history['loss']\n",
    "epochs = range(len(loss))\n",
    "plt.plot(epochs, loss, c = \"b\")\n",
    "plt.legend(loc=\"upper left\")\n",
    "\n",
    "plt.title('loss') \n",
    "plt.figure()\n",
    "plt.show()"
   ]
  },
  {
   "cell_type": "code",
   "execution_count": 8,
   "id": "62b87687",
   "metadata": {},
   "outputs": [
    {
     "name": "stdout",
     "output_type": "stream",
     "text": [
      "21.83\n"
     ]
    }
   ],
   "source": [
    "preds = model.predict(test_image_2)\n",
    "pred_ans = np.argmax(preds, axis=1)\n",
    "\n",
    "counter = 0\n",
    "for i in range(len(pred_ans)):\n",
    "    if test_label_2[i] == pred_ans[i]:\n",
    "        counter = counter + 1\n",
    "        \n",
    "print(round(counter/len(pred_ans)*100,2))"
   ]
  },
  {
   "cell_type": "markdown",
   "id": "4c105503",
   "metadata": {},
   "source": [
    "# Static vs Dynamic\n",
    "# Static"
   ]
  },
  {
   "cell_type": "code",
   "execution_count": 11,
   "id": "d5fc35f0",
   "metadata": {},
   "outputs": [
    {
     "name": "stdout",
     "output_type": "stream",
     "text": [
      "Train on 63324 samples, validate on 449 samples\n",
      "Epoch 1/10\n",
      "63324/63324 [==============================] - 11s 180us/sample - loss: 3.5255 - val_loss: 3.3701\n",
      "Epoch 2/10\n",
      "63324/63324 [==============================] - 11s 167us/sample - loss: 3.2239 - val_loss: 3.1896\n",
      "Epoch 3/10\n",
      "63324/63324 [==============================] - 10s 165us/sample - loss: 3.0735 - val_loss: 3.1575\n",
      "Epoch 4/10\n",
      "63324/63324 [==============================] - 10s 162us/sample - loss: 2.9796 - val_loss: 3.0698\n",
      "Epoch 5/10\n",
      "63324/63324 [==============================] - 10s 163us/sample - loss: 2.9163 - val_loss: 2.9662\n",
      "Epoch 6/10\n",
      "63324/63324 [==============================] - 10s 163us/sample - loss: 2.8658 - val_loss: 2.9099\n",
      "Epoch 7/10\n",
      "63324/63324 [==============================] - 10s 162us/sample - loss: 2.8244 - val_loss: 2.8888\n",
      "Epoch 8/10\n",
      "63324/63324 [==============================] - 11s 169us/sample - loss: 2.7884 - val_loss: 2.8976\n",
      "Epoch 9/10\n",
      "63324/63324 [==============================] - 10s 164us/sample - loss: 2.7551 - val_loss: 2.9796\n",
      "Epoch 10/10\n",
      "63324/63324 [==============================] - 10s 164us/sample - loss: 2.7239 - val_loss: 2.8740\n",
      "105.77984547615051\n"
     ]
    }
   ],
   "source": [
    "import tensorflow as tf\n",
    "import time\n",
    "\n",
    "class MyLeNet5_Static(tf.keras.Model):\n",
    "    \n",
    "    def __init__(self):\n",
    "        # dynamic = True --> Dynamic; dynamic = False --> Static\n",
    "        super(MyLeNet5_Static, self).__init__(name='MyLeNet5_Static', dynamic = False)\n",
    "        self.conv_layer_1 = tf.keras.layers.Conv2D(filters = 6, kernel_size = (3, 3), input_shape=(30, 30, 3), padding=\"valid\", activation='relu')\n",
    "        self.pool_layer_1 = tf.keras.layers.MaxPool2D(2,2)\n",
    "        self.conv_layer_2 = tf.keras.layers.Conv2D(filters = 16, kernel_size = (3, 3), padding=\"valid\", activation='relu')        \n",
    "        self.pool_layer_2 = tf.keras.layers.MaxPool2D(2,2)\n",
    "        self.conv_layer_3 = tf.keras.layers.Conv2D(filters = 120, kernel_size = (6, 6), padding=\"valid\", activation='relu')        \n",
    "        self.fc_layer_1 = tf.keras.layers.Flatten()\n",
    "        self.fc_layer_2 = tf.keras.layers.Dense(84, activation=\"relu\")\n",
    "        self.fc_layer_3 = tf.keras.layers.Dense(50, activation=\"softmax\")\n",
    "    \n",
    "    def call(self, inputs):\n",
    "        activation = self.conv_layer_1(inputs)\n",
    "        activation = self.pool_layer_1(activation)\n",
    "        activation = self.conv_layer_2(activation)\n",
    "        activation = self.pool_layer_2(activation)\n",
    "        activation = self.fc_layer_1(activation)\n",
    "        activation = self.fc_layer_2(activation)\n",
    "        output = self.fc_layer_3(activation)\n",
    "        return output\n",
    "    \n",
    "from tensorflow.keras.optimizers import RMSprop\n",
    "modelx = MyLeNet5_Static()\n",
    "modelx.compile(loss=tf.keras.losses.CategoricalCrossentropy(), optimizer=RMSprop(lr=0.001)) # Static\n",
    "tic = time.time()\n",
    "modelx.fit(train_image_2, train_label, validation_data=(val_image_2,val_label), batch_size=50, epochs=10)\n",
    "toc = time.time()\n",
    "print(toc - tic)"
   ]
  },
  {
   "cell_type": "markdown",
   "id": "6f85540e",
   "metadata": {},
   "source": [
    "# Dynamic"
   ]
  },
  {
   "cell_type": "code",
   "execution_count": 10,
   "id": "2bb2973e",
   "metadata": {},
   "outputs": [
    {
     "name": "stdout",
     "output_type": "stream",
     "text": [
      "Train on 63324 samples, validate on 449 samples\n",
      "Epoch 1/10\n",
      "63324/63324 [==============================] - 46s 729us/sample - loss: 3.5569 - val_loss: 3.3157\n",
      "Epoch 2/10\n",
      "63324/63324 [==============================] - 45s 715us/sample - loss: 3.2202 - val_loss: 3.2471\n",
      "Epoch 3/10\n",
      "63324/63324 [==============================] - 45s 710us/sample - loss: 3.0589 - val_loss: 2.9972\n",
      "Epoch 4/10\n",
      "63324/63324 [==============================] - 45s 713us/sample - loss: 2.9723 - val_loss: 2.9647\n",
      "Epoch 5/10\n",
      "63324/63324 [==============================] - 45s 709us/sample - loss: 2.9109 - val_loss: 2.9574\n",
      "Epoch 6/10\n",
      "63324/63324 [==============================] - 45s 713us/sample - loss: 2.8637 - val_loss: 3.0600\n",
      "Epoch 7/10\n",
      "63324/63324 [==============================] - 44s 693us/sample - loss: 2.8214 - val_loss: 2.8958\n",
      "Epoch 8/10\n",
      "63324/63324 [==============================] - 46s 723us/sample - loss: 2.7845 - val_loss: 2.8828\n",
      "Epoch 9/10\n",
      "63324/63324 [==============================] - 43s 679us/sample - loss: 2.7524 - val_loss: 2.9314\n",
      "Epoch 10/10\n",
      "63324/63324 [==============================] - 43s 676us/sample - loss: 2.7238 - val_loss: 2.8406\n",
      "447.1947500705719\n"
     ]
    }
   ],
   "source": [
    "import tensorflow as tf\n",
    "import time\n",
    "\n",
    "class MyLeNet5_Dynamic(tf.keras.Model):\n",
    "    \n",
    "    def __init__(self):\n",
    "        # dynamic = True --> Dynamic; dynamic = False --> Static\n",
    "        super(MyLeNet5_Dynamic, self).__init__(name='MyLeNet5_Dynamic', dynamic = True)\n",
    "        self.conv_layer_1 = tf.keras.layers.Conv2D(filters = 6, kernel_size = (3, 3), input_shape=(30, 30, 3), padding=\"valid\", activation='relu')\n",
    "        self.pool_layer_1 = tf.keras.layers.MaxPool2D(2,2)\n",
    "        self.conv_layer_2 = tf.keras.layers.Conv2D(filters = 16, kernel_size = (3, 3), padding=\"valid\", activation='relu')        \n",
    "        self.pool_layer_2 = tf.keras.layers.MaxPool2D(2,2)\n",
    "        self.conv_layer_3 = tf.keras.layers.Conv2D(filters = 120, kernel_size = (6, 6), padding=\"valid\", activation='relu')        \n",
    "        self.fc_layer_1 = tf.keras.layers.Flatten()\n",
    "        self.fc_layer_2 = tf.keras.layers.Dense(84, activation=\"relu\")\n",
    "        self.fc_layer_3 = tf.keras.layers.Dense(50, activation=\"softmax\")\n",
    "    \n",
    "    def call(self, inputs):\n",
    "        activation = self.conv_layer_1(inputs)\n",
    "        activation = self.pool_layer_1(activation)\n",
    "        activation = self.conv_layer_2(activation)\n",
    "        activation = self.pool_layer_2(activation)\n",
    "        activation = self.fc_layer_1(activation)\n",
    "        activation = self.fc_layer_2(activation)\n",
    "        output = self.fc_layer_3(activation)\n",
    "        return output\n",
    "    \n",
    "from tensorflow.keras.optimizers import RMSprop\n",
    "modelx = MyLeNet5_Dynamic()\n",
    "modelx.compile(loss=tf.keras.losses.CategoricalCrossentropy(), optimizer=RMSprop(lr=0.001)) # Dynamic\n",
    "\n",
    "tic = time.time()\n",
    "modelx.fit(train_image_2, train_label, validation_data=(val_image_2,val_label), batch_size=50, epochs=10)\n",
    "toc = time.time()\n",
    "print(toc - tic)"
   ]
  }
 ],
 "metadata": {
  "kernelspec": {
   "display_name": "Python 3",
   "language": "python",
   "name": "python3"
  },
  "language_info": {
   "codemirror_mode": {
    "name": "ipython",
    "version": 3
   },
   "file_extension": ".py",
   "mimetype": "text/x-python",
   "name": "python",
   "nbconvert_exporter": "python",
   "pygments_lexer": "ipython3",
   "version": "3.7.10"
  }
 },
 "nbformat": 4,
 "nbformat_minor": 5
}
